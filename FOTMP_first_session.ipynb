{
 "cells": [
  {
   "cell_type": "markdown",
   "metadata": {},
   "source": [
    "# Let's name some functions"
   ]
  },
  {
   "cell_type": "code",
   "execution_count": 2,
   "metadata": {},
   "outputs": [
    {
     "name": "stdout",
     "output_type": "stream",
     "text": [
      "1\n",
      "There are 19 comms in this loadset.\n"
     ]
    }
   ],
   "source": [
    "import re, os, glob\n",
    "\n",
    "def countComms(backstop_filename):\n",
    "    file_in = open(backstop_filename,'r')\n",
    "    counter=0\n",
    "\n",
    "    for line in file_in:\n",
    "        ctx_On = re.search('TLMSID=.(CTX[A,B]ON)',line)\n",
    "\n",
    "        if ctx_On:\n",
    "    #         a=line.split('|')\n",
    "    #         print(ctx_On.group(1) + \" \" + ctx_On.group(2))\n",
    "            counter+=1\n",
    "\n",
    "    file_in.close()\n",
    "    \n",
    "    return counter\n",
    "\n",
    "\n",
    "\n",
    "def main():\n",
    "    file = glob.glob(\"/home/mission/Backstop/MAR1918B/*backstop\")\n",
    "    print(len(file))\n",
    "    backstop_file = file[0]\n",
    "    \n",
    "    counter = countComms(backstop_file)\n",
    "    \n",
    "    print(\"There are \" + str(counter) + \" comms in this loadset.\") \n",
    "    \n",
    "    \n",
    "\n",
    "main()\n"
   ]
  },
  {
   "cell_type": "markdown",
   "metadata": {},
   "source": [
    "Here is a complete version of the function. This can be called in any way in any python code to allow the counting of comms. Note that all error checking is performed outside of the function. "
   ]
  },
  {
   "cell_type": "code",
   "execution_count": 6,
   "metadata": {},
   "outputs": [
    {
     "name": "stdout",
     "output_type": "stream",
     "text": [
      "There are 19 comms in this loadset.\n"
     ]
    }
   ],
   "source": [
    "from re import search\n",
    "from glob import glob\n",
    "\n",
    "# This function will take a Backstop file \n",
    "# and find all the comms that are contained\n",
    "# A count is returned to the base program\n",
    "\n",
    "def countComms(backstop_filename):\n",
    "    # Open the file for reading\n",
    "    file_in = open(backstop_filename,'r')\n",
    "    \n",
    "    # Counter for the amount of comms in the file\n",
    "    counter=0\n",
    "\n",
    "    for line in file_in:\n",
    "        # regular expression search of the current line \n",
    "        # from the file\n",
    "        ctx = search('TLMSID=.(CTX[A,B]ON)',line)\n",
    "        if ctx:\n",
    "            # add to the count\n",
    "            counter+=1\n",
    "    # Close that file, private pyle!\n",
    "    file_in.close()\n",
    "    \n",
    "    # return your answer out of the  function to \n",
    "    # allow the main program to use it\n",
    "    return counter\n",
    "\n",
    "# This would part of the main program\n",
    "file = glob(\"/home/mission/Backstop/MAR1918B/*backstop\")\n",
    "if not(len(file) > 0 and len(file) <2):\n",
    "    print(\"Incorrect Amount of Backstop files. Exiting...\")\n",
    "else:\n",
    "    backstop_file = file[0]\n",
    "\n",
    "    counter = countComms(backstop_file)\n",
    "\n",
    "    if counter < 1:\n",
    "        print(\"There are no comms included in this loadset.\")\n",
    "    else:\n",
    "        print(\"There are \" + str(counter) + \" comms in this loadset.\") \n",
    "\n"
   ]
  },
  {
   "cell_type": "code",
   "execution_count": null,
   "metadata": {
    "collapsed": true
   },
   "outputs": [],
   "source": []
  }
 ],
 "metadata": {
  "kernelspec": {
   "display_name": "Python 3",
   "language": "python",
   "name": "python3"
  },
  "language_info": {
   "codemirror_mode": {
    "name": "ipython",
    "version": 3
   },
   "file_extension": ".py",
   "mimetype": "text/x-python",
   "name": "python",
   "nbconvert_exporter": "python",
   "pygments_lexer": "ipython3",
   "version": "3.6.2"
  }
 },
 "nbformat": 4,
 "nbformat_minor": 2
}
