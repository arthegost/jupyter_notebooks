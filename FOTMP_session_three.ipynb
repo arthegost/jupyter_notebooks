{
 "cells": [
  {
   "cell_type": "markdown",
   "metadata": {},
   "source": [
    "# Cleaning Up the code"
   ]
  },
  {
   "cell_type": "markdown",
   "metadata": {},
   "source": [
    "## Comms Check"
   ]
  },
  {
   "cell_type": "markdown",
   "metadata": {},
   "source": [
    "**Here is the first check we coded, which checked comms in the loads. Notice that comments have been added and uneeded code has been removed for clarity and responsiveness.**"
   ]
  },
  {
   "cell_type": "code",
   "execution_count": 3,
   "metadata": {
    "collapsed": true
   },
   "outputs": [],
   "source": [
    "from re import search\n",
    "from glob import glob\n",
    "\n",
    "# This function will take a Backstop file \n",
    "# and find all the comms that are contained\n",
    "# A count is returned to the base program\n",
    "\n",
    "def countComms(backstop_filename):\n",
    "    # Open the file for reading\n",
    "    file_in = open(backstop_filename,'r')\n",
    "    \n",
    "    # Counter for the amount of comms in the file\n",
    "    counter=0\n",
    "\n",
    "    for line in file_in:\n",
    "        # regular expression search of the current line \n",
    "        # from the file\n",
    "        ctx = search('TLMSID=.(CTX[A,B]ON)',line)\n",
    "        if ctx:\n",
    "            # add to the count\n",
    "            counter+=1\n",
    "    # Close that file, private pyle!\n",
    "    file_in.close()\n",
    "    \n",
    "    # return your answer out of the  function to \n",
    "    # allow the main program to use it\n",
    "    return counter"
   ]
  },
  {
   "cell_type": "markdown",
   "metadata": {},
   "source": [
    "**Let's try the function out and see how it works!**"
   ]
  },
  {
   "cell_type": "code",
   "execution_count": 5,
   "metadata": {},
   "outputs": [
    {
     "name": "stdout",
     "output_type": "stream",
     "text": [
      "There are 19 comms in this loadset.\n"
     ]
    }
   ],
   "source": [
    "import sys\n",
    "\n",
    "# Find all backstop files in the Backstop directory\n",
    "file = glob(\"/home/mission/Backstop/MAR1918B/*backstop\")\n",
    "\n",
    "# Check if we have only one. Otherwise, slap their hand, and exit\n",
    "if not(len(file) > 0 and len(file) <2):\n",
    "    print(\"Incorrect Amount of Backstop files. Exiting...\")\n",
    "    sys.exit()\n",
    "else:\n",
    "    # Do the things\n",
    "    backstop_file = file[0]\n",
    "\n",
    "    counter = countComms(backstop_file)\n",
    "\n",
    "    if counter < 1:\n",
    "        print(\"There are no comms included in this loadset.\")\n",
    "    else:\n",
    "        print(\"There are \" + str(counter) + \" comms in this loadset.\")"
   ]
  },
  {
   "cell_type": "markdown",
   "metadata": {},
   "source": [
    "**This seems to work great! Let's move on to the next one.**"
   ]
  },
  {
   "cell_type": "markdown",
   "metadata": {},
   "source": [
    "## Bias Check"
   ]
  },
  {
   "cell_type": "markdown",
   "metadata": {},
   "source": [
    "** Once again, the code has been cleaned up and beautfied. The comments were left out for us to do.**"
   ]
  },
  {
   "cell_type": "code",
   "execution_count": 47,
   "metadata": {},
   "outputs": [],
   "source": [
    "from re import search\n",
    "from glob import glob\n",
    "from Chandra.Time import DateTime\n",
    "\n",
    "def checkBiasVsFormat(backstop_filename):\n",
    "    regex_to_match = [\"(\\d+:\\d+:\\d+:\\d+:\\d+.\\d+).*TLMSID= (X[T C]Z[0-9 A-F]+)\",\n",
    "                         \"(\\d+:\\d+:\\d+:\\d+:\\d+.\\d+).*TLMSID= (CSELFMT\\d)\"] \n",
    "\n",
    "    file_in = open(backstop_filename)\n",
    "    results_array = []\n",
    "\n",
    "    for line in file_in:\n",
    "        match = search(regex_to_match[0],line)\n",
    "        if not match:\n",
    "            match = search(regex_to_match[1],line)\n",
    "        if match:\n",
    "            temp_object = {\n",
    "                \"timestring\": match.group(1),\n",
    "                \"tlmsid\":match.group(2),\n",
    "                \"time_seconds\":DateTime(match.group(1)).secs\n",
    "            }\n",
    "\n",
    "            results_array.append(temp_object)\n",
    "    file_in.close()\n",
    "    \n",
    "    previous_object = {}\n",
    "    flag=0\n",
    "    for index,result_instance in enumerate(results_array):\n",
    "        if not index == 0:\n",
    "            time = result_instance['time_seconds']\n",
    "            previous_time = previous_object['time_seconds']\n",
    "\n",
    "            match=search(\"SELFMT\\d\",result_instance['tlmsid'])\n",
    "            if match:\n",
    "                match2=search(\"SELFMT\\d\",previous_object['tlmsid'])\n",
    "\n",
    "                if not match2:\n",
    "                    if  previous_time+(26*60) > time:\n",
    "                        flag=1\n",
    "                        output = previous_object['tlmsid']+\" \"+previous_object['timestring'] +\\\n",
    "                        \" | \"+ result_instance['tlmsid'] +\" \" +\\\n",
    "                        result_instance['timestring'] + \"|<---THIS NEEDS CHECKED | TIME BETWEEN: \"+\\\n",
    "                        str(round((result_instance['time_seconds']-previous_object['time_seconds'])/60,2))+' Minutes'\n",
    "\n",
    "                        print(output)\n",
    "\n",
    "        previous_object = result_instance\n",
    "        \n",
    "    if not flag:\n",
    "        print('There is no format commanding during an ACIS bias.')\n",
    "        \n",
    "\n"
   ]
  },
  {
   "cell_type": "markdown",
   "metadata": {},
   "source": [
    "**Since we already have a Backstop to try this on, let's use it!!!**"
   ]
  },
  {
   "cell_type": "code",
   "execution_count": 48,
   "metadata": {},
   "outputs": [
    {
     "name": "stdout",
     "output_type": "stream",
     "text": [
      "There is no format commanding during an ACIS bias.\n"
     ]
    }
   ],
   "source": [
    "checkBiasVsFormat(backstop_file)"
   ]
  },
  {
   "cell_type": "code",
   "execution_count": 34,
   "metadata": {
    "collapsed": true
   },
   "outputs": [],
   "source": []
  },
  {
   "cell_type": "code",
   "execution_count": null,
   "metadata": {},
   "outputs": [],
   "source": []
  },
  {
   "cell_type": "code",
   "execution_count": null,
   "metadata": {
    "collapsed": true
   },
   "outputs": [],
   "source": []
  }
 ],
 "metadata": {
  "kernelspec": {
   "display_name": "Python 3",
   "language": "python",
   "name": "python3"
  },
  "language_info": {
   "codemirror_mode": {
    "name": "ipython",
    "version": 3
   },
   "file_extension": ".py",
   "mimetype": "text/x-python",
   "name": "python",
   "nbconvert_exporter": "python",
   "pygments_lexer": "ipython3",
   "version": "3.6.2"
  }
 },
 "nbformat": 4,
 "nbformat_minor": 2
}
