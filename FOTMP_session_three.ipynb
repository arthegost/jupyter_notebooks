{
 "cells": [
  {
   "cell_type": "markdown",
   "metadata": {},
   "source": [
    "# Cleaning Up the code"
   ]
  },
  {
   "cell_type": "markdown",
   "metadata": {},
   "source": [
    "## Comms Check"
   ]
  },
  {
   "cell_type": "markdown",
   "metadata": {},
   "source": [
    "**Here is the first check we coded, which checked comms in the loads. Notice that comments have been added and uneeded code has been removed for clarity and responsiveness.**"
   ]
  },
  {
   "cell_type": "code",
   "execution_count": 1,
   "metadata": {
    "collapsed": true
   },
   "outputs": [],
   "source": [
    "from re import search\n",
    "from glob import glob\n",
    "\n",
    "\"\"\" This function will take a Backstop file \n",
    "  and find all the comms that are contained\n",
    "  A count is returned to the base program\"\"\"\n",
    "\n",
    "def countComms(backstop_filename):\n",
    "    # Open the file for reading\n",
    "    file_in = open(backstop_filename,'r')\n",
    "    \n",
    "    # Counter for the amount of comms in the file\n",
    "    counter=0\n",
    "\n",
    "    for line in file_in:\n",
    "        # regular expression search of the current line \n",
    "        # from the file\n",
    "        ctx = search('TLMSID=.(CTX[A,B]ON)',line)\n",
    "        if ctx:\n",
    "            # add to the count\n",
    "            counter+=1\n",
    "    # Close that file, private pyle!\n",
    "    file_in.close()\n",
    "    \n",
    "    # return your answer out of the  function to \n",
    "    # allow the main program to use it\n",
    "    return counter"
   ]
  },
  {
   "cell_type": "markdown",
   "metadata": {},
   "source": [
    "**Let's try the function out and see how it works!**"
   ]
  },
  {
   "cell_type": "code",
   "execution_count": 2,
   "metadata": {},
   "outputs": [
    {
     "name": "stdout",
     "output_type": "stream",
     "text": [
      "There are 19 comms in this loadset.\n"
     ]
    }
   ],
   "source": [
    "import sys\n",
    "\n",
    "# Find all backstop files in the Backstop directory\n",
    "file = glob(\"/home/mission/Backstop/MAR1918B/*backstop\")\n",
    "\n",
    "# Check if we have only one. Otherwise, slap their hand, and exit\n",
    "if not(len(file) > 0 and len(file) <2):\n",
    "    print(\"Incorrect Amount of Backstop files. Exiting...\")\n",
    "    sys.exit()\n",
    "else:\n",
    "    # Do the things\n",
    "    backstop_file = file[0]\n",
    "\n",
    "    counter = countComms(backstop_file)\n",
    "\n",
    "    if counter < 1:\n",
    "        print(\"There are no comms included in this loadset.\")\n",
    "    else:\n",
    "        print(\"There are \" + str(counter) + \" comms in this loadset.\")"
   ]
  },
  {
   "cell_type": "markdown",
   "metadata": {},
   "source": [
    "**This seems to work great! Let's move on to the next one.**"
   ]
  },
  {
   "cell_type": "markdown",
   "metadata": {},
   "source": [
    "## Bias Check"
   ]
  },
  {
   "cell_type": "markdown",
   "metadata": {},
   "source": [
    "** Once again, the code has been cleaned up and beautfied. The comments were left out for us to do.**"
   ]
  },
  {
   "cell_type": "code",
   "execution_count": 12,
   "metadata": {
    "collapsed": true
   },
   "outputs": [],
   "source": [
    "from Chandra.Time import DateTime\n",
    "\n",
    "# This function will take a backstop file and find all XTZ,XCZ, and SELFMT commands. \n",
    "# The FMT commands will be checked to see if they occur within 26 minutes of any XTZ or XCZ.\n",
    "# If there are no problems, the user is made aware of this.\n",
    "# If there are problems, the user is shown which format commands can potentially be a problem.\n",
    "def checkBiasVsFormat(backstop_filename):\n",
    "    regex_to_match = [\"(\\d+:\\d+:\\d+:\\d+:\\d+.\\d+).*TLMSID= (X[T C]Z[0-9 A-F]+)\",\n",
    "                         \"(\\d+:\\d+:\\d+:\\d+:\\d+.\\d+).*TLMSID= (CSELFMT\\d)\"] \n",
    "    \n",
    "    # Open the backstop file for reading\n",
    "    file_in = open(backstop_filename)\n",
    "    results_array = []\n",
    "\n",
    "    for line in file_in:\n",
    "        match = search(regex_to_match[0],line)\n",
    "        if not match:\n",
    "            match = search(regex_to_match[1],line)\n",
    "        if match:\n",
    "            temp_object = {\n",
    "                \"timestring\": match.group(1),\n",
    "                \"tlmsid\":match.group(2),\n",
    "                \"time_seconds\":DateTime(match.group(1)).secs\n",
    "            }\n",
    "\n",
    "            results_array.append(temp_object)\n",
    "    file_in.close()\n",
    "    \n",
    "    previous_object = {}\n",
    "    flag=0\n",
    "    for index,result_instance in enumerate(results_array):\n",
    "        if not index == 0:\n",
    "            time = result_instance['time_seconds']\n",
    "            previous_time = previous_object['time_seconds']\n",
    "\n",
    "            match=search(\"SELFMT\\d\",result_instance['tlmsid'])\n",
    "            if match:\n",
    "                match2=search(\"SELFMT\\d\",previous_object['tlmsid'])\n",
    "\n",
    "                if not match2:\n",
    "                    if  previous_time+(26*60) > time:\n",
    "                        flag=1\n",
    "                        output = previous_object['tlmsid']+\" \"+previous_object['timestring'] +\\\n",
    "                        \" | \"+ result_instance['tlmsid'] +\" \" +\\\n",
    "                        result_instance['timestring'] + \"|<---THIS NEEDS CHECKED | TIME BETWEEN: \"+\\\n",
    "                        str(round((result_instance['time_seconds']-previous_object['time_seconds'])/60,2))+' Minutes'\n",
    "\n",
    "                        print(output)\n",
    "\n",
    "        previous_object = result_instance\n",
    "        \n",
    "    if not flag:\n",
    "        print('There is no format commanding during an ACIS bias.')"
   ]
  },
  {
   "cell_type": "markdown",
   "metadata": {},
   "source": [
    "**Since we already have a Backstop to try this on, let's use it!!!**"
   ]
  },
  {
   "cell_type": "code",
   "execution_count": 13,
   "metadata": {},
   "outputs": [
    {
     "name": "stdout",
     "output_type": "stream",
     "text": [
      "There is no format commanding during an ACIS bias.\n"
     ]
    }
   ],
   "source": [
    "checkBiasVsFormat(backstop_file)"
   ]
  },
  {
   "cell_type": "markdown",
   "metadata": {},
   "source": [
    "## Using the Kadi Archive "
   ]
  },
  {
   "cell_type": "markdown",
   "metadata": {},
   "source": [
    "**Overview**<br>\n",
    "The kadi Chandra events database stores a variety of events that are useful in performing analysis or establishing situational awareness (i.e. what was happening around March 2017?). Examples include:\n",
    "a\n",
    "* Events in telemetry such as maneuvers, NPM dwells, obsids, mech movements, momentum dumps, orbit events, etc.\n",
    "* CAPs, DSN passes, dark cals, SCS107, safe modes, bright star hold, etc\n",
    "* Chandra major events since launch\n",
    "\n",
    "As shown in the Event definitions section, there are a number of different types of Chandra events that are available within the Kadi archive. Each type of event is essentially a database table with a number of data fields, some of them common to all event types and some of them unique.\n",
    "\n",
    "http://cxc.harvard.edu/mta/ASPECT/tool_doc/kadi/events.html"
   ]
  },
  {
   "cell_type": "code",
   "execution_count": 14,
   "metadata": {
    "collapsed": true
   },
   "outputs": [],
   "source": [
    "from kadi import events"
   ]
  },
  {
   "cell_type": "markdown",
   "metadata": {
    "collapsed": true
   },
   "source": [
    "This import will give us all events that kadi contains. Here is a list of events using a help function in kadi itself."
   ]
  },
  {
   "cell_type": "code",
   "execution_count": 15,
   "metadata": {
    "collapsed": true
   },
   "outputs": [],
   "source": [
    "events?"
   ]
  },
  {
   "cell_type": "markdown",
   "metadata": {},
   "source": [
    "You can also use **tab** to show you a list of events like this\n",
    "\n",
    "events.<TAB>  # type \"events.\" and then press <TAB>\n",
    "\n",
    "This also works on the event itself, showing you all the fields that the event contains"
   ]
  },
  {
   "cell_type": "code",
   "execution_count": 29,
   "metadata": {},
   "outputs": [],
   "source": [
    "events.dumps?"
   ]
  },
  {
   "cell_type": "markdown",
   "metadata": {},
   "source": [
    "This is just the start. You can also output the events to the screen or a variable using the **table** function"
   ]
  },
  {
   "cell_type": "code",
   "execution_count": 28,
   "metadata": {},
   "outputs": [
    {
     "data": {
      "text/html": [
       "&lt;Table length=3&gt;\n",
       "<table id=\"table46912711878024\" class=\"table-striped table-bordered table-condensed\">\n",
       "<thead><tr><th>start</th><th>stop</th><th>tstart</th><th>tstop</th><th>dur</th></tr></thead>\n",
       "<thead><tr><th>str21</th><th>str21</th><th>float64</th><th>float64</th><th>float64</th></tr></thead>\n",
       "<tr><td>2018:037:01:27:54.576</td><td>2018:037:01:30:03.726</td><td>634267743.76</td><td>634267872.91</td><td>129.150007606</td></tr>\n",
       "<tr><td>2018:039:14:55:54.664</td><td>2018:039:14:58:15.089</td><td>634489023.848</td><td>634489164.273</td><td>140.425008297</td></tr>\n",
       "<tr><td>2018:042:05:22:55.103</td><td>2018:042:05:25:24.753</td><td>634713844.287</td><td>634713993.937</td><td>149.650008798</td></tr>\n",
       "</table>"
      ],
      "text/plain": [
       "<Table length=3>\n",
       "        start                  stop         ...     tstop          dur     \n",
       "        str21                 str21         ...    float64       float64   \n",
       "--------------------- --------------------- ... ------------- -------------\n",
       "2018:037:01:27:54.576 2018:037:01:30:03.726 ...  634267872.91 129.150007606\n",
       "2018:039:14:55:54.664 2018:039:14:58:15.089 ... 634489164.273 140.425008297\n",
       "2018:042:05:22:55.103 2018:042:05:25:24.753 ... 634713993.937 149.650008798"
      ]
     },
     "execution_count": 28,
     "metadata": {},
     "output_type": "execute_result"
    }
   ],
   "source": [
    "events.dumps.filter(start='2018:035',stop='2018:045').table"
   ]
  },
  {
   "cell_type": "code",
   "execution_count": 25,
   "metadata": {},
   "outputs": [
    {
     "data": {
      "text/plain": [
       "634132067.0649269"
      ]
     },
     "execution_count": 25,
     "metadata": {},
     "output_type": "execute_result"
    }
   ],
   "source": [
    "a=events.obsids.filter(start='2018:035',stop='2018:036')\n",
    "a[0].dur\n",
    "a[0].tstart\n"
   ]
  },
  {
   "cell_type": "code",
   "execution_count": 31,
   "metadata": {
    "collapsed": true
   },
   "outputs": [],
   "source": [
    "from kadi import commands"
   ]
  },
  {
   "cell_type": "code",
   "execution_count": null,
   "metadata": {
    "collapsed": true
   },
   "outputs": [],
   "source": []
  }
 ],
 "metadata": {
  "kernelspec": {
   "display_name": "Python 3",
   "language": "python",
   "name": "python3"
  },
  "language_info": {
   "codemirror_mode": {
    "name": "ipython",
    "version": 3
   },
   "file_extension": ".py",
   "mimetype": "text/x-python",
   "name": "python",
   "nbconvert_exporter": "python",
   "pygments_lexer": "ipython3",
   "version": "3.6.2"
  }
 },
 "nbformat": 4,
 "nbformat_minor": 2
}
