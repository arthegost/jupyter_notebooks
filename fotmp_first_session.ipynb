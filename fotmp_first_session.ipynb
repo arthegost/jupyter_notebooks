{
 "cells": [
  {
   "cell_type": "markdown",
   "metadata": {},
   "source": [
    "# Let's name some functions"
   ]
  },
  {
   "cell_type": "code",
   "execution_count": 2,
   "metadata": {
    "collapsed": false
   },
   "outputs": [
    {
     "name": "stdout",
     "output_type": "stream",
     "text": [
      "1\n",
      "There are 19 comms in this loadset.\n"
     ]
    }
   ],
   "source": [
    "import re, os, glob\n",
    "\n",
    "def countComms(backstop_filename):\n",
    "    file_in = open(backstop_filename,'r')\n",
    "    counter=0\n",
    "\n",
    "    for line in file_in:\n",
    "        ctx_On = re.search('TLMSID=.(CTX[A,B]ON)',line)\n",
    "\n",
    "        if ctx_On:\n",
    "    #         a=line.split('|')\n",
    "    #         print(ctx_On.group(1) + \" \" + ctx_On.group(2))\n",
    "            counter+=1\n",
    "\n",
    "    file_in.close()\n",
    "    \n",
    "    return counter\n",
    "\n",
    "\n",
    "\n",
    "def main():\n",
    "    file = glob.glob(\"/home/mission/Backstop/MAR1918B/*backstop\")\n",
    "    print(len(file))\n",
    "    backstop_file = file[0]\n",
    "    \n",
    "    counter = countComms(backstop_file)\n",
    "    \n",
    "    print(\"There are \" + str(counter) + \" comms in this loadset.\") \n",
    "    \n",
    "    \n",
    "\n",
    "main()\n"
   ]
  },
  {
   "cell_type": "code",
   "execution_count": null,
   "metadata": {
    "collapsed": true
   },
   "outputs": [],
   "source": []
  }
 ],
 "metadata": {
  "kernelspec": {
   "display_name": "Python 3",
   "language": "python",
   "name": "python3"
  },
  "language_info": {
   "codemirror_mode": {
    "name": "ipython",
    "version": 3
   },
   "file_extension": ".py",
   "mimetype": "text/x-python",
   "name": "python",
   "nbconvert_exporter": "python",
   "pygments_lexer": "ipython3",
   "version": "3.5.2"
  }
 },
 "nbformat": 4,
 "nbformat_minor": 2
}
