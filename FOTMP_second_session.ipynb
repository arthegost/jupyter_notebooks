{
 "cells": [
  {
   "cell_type": "markdown",
   "metadata": {},
   "source": [
    "# Automating FOTMP Review - Second Session"
   ]
  },
  {
   "cell_type": "markdown",
   "metadata": {},
   "source": [
    "Continuing the lessons from last week, let's go over the next check that is on our list. This check will be a bit more involved than the first on.\n",
    "\n",
    "<b>Check #2</b></br>\n",
    "<i>Verify no format commanding during ACIS bias: egrep \"ACIS,XTZ*|ACIS,XCZ*|ATS,TLM,FORMAT=*\" *dot</i></br></br>\n",
    "\n",
    "The check includes a <b>grep</b> that can be used to do this check manually, which output all commands in the DOT that include the XTZ*, XCZ*, and FORMAT statements in them. This will need a reviewer to look at each instance and make an analysis if there is an issue or not. What we want is to be able output the information to the user so a quick analysis can be done by only looking at the trouble area. Luckily, python can help with this!!"
   ]
  },
  {
   "cell_type": "markdown",
   "metadata": {},
   "source": [
    "## Thinking about the logic"
   ]
  },
  {
   "cell_type": "markdown",
   "metadata": {},
   "source": [
    "First and foremost, can we get away from using the DOT? The goal here is to be to use less files in the anlysis as possible, so let's see if this check can be done from a backstop file. Snippet of a backstop file with a with pertinent information shown.Keep in mind that this is an abridged version and does not reflect a full backstop file."
   ]
  },
  {
   "cell_type": "markdown",
   "metadata": {},
   "source": [
    "<font color=blue>\n",
    "2018:078:21:34:19.857 | 16603512 0 | ACISPKT          | TLMSID= AA00000000<br>\n",
    "2018:078:21:34:23.857 | 16603528 0 | ACISPKT          | TLMSID= AA00000000<br>\n",
    "2018:078:21:34:27.857 | 16603544 0 | ACISPKT          | TLMSID= WSPOW00000<br>\n",
    "2018:078:21:34:51.857 | 16603637 0 | ACISPKT          | TLMSID= WSPOW3F03F<br>\n",
    "2018:078:21:35:54.857 | 16603883 0 | ACISPKT          | TLMSID= WT0092E024<br>\n",
    "**2018:078:21:35:58.857 | 16603899 0 | ACISPKT          | TLMSID= XTZ0000005**<br>\n",
    "2018:078:21:36:02.857 | 16603914 0 | ACISPKT          | TLMSID= RS_0000001<br>\n",
    "2018:078:21:36:06.857 | 16603930 0 | ACISPKT          | TLMSID= RH_0000001<br>\n",
    "\n",
    "\n",
    "\n",
    "**2018:079:10:39:19.069 |    10098 0 | COMMAND_HW       | TLMSID= CSELFMT4**<br>\n",
    "2018:079:10:39:19.069 |    10098 0 | MP_OBSID         | TLMSID= COAOSQID<br>\n",
    "\n",
    "\n",
    "2018:079:10:39:53.408 |    10232 0 | COMMAND_SW       | TLMSID= 4OHETGRE<br>\n",
    "2018:079:10:43:23.408 |    11052 0 | COMMAND_SW       | TLMSID= 4OOTGDS<br>\n",
    "2018:079:10:43:24.433 |    11056 0 | COMMAND_HW       | TLMSID= 4MC5ADS<br>\n",
    "2018:079:10:43:36.369 |    11102 0 | COMMAND_HW       | TLMSID= 2NXILASL<br>\n",
    "**2018:079:10:43:36.869 |    11104 0 | COMMAND_HW       | TLMSID= CSELFMT2**<br>\n",
    "</font>"
   ]
  },
  {
   "cell_type": "markdown",
   "metadata": {},
   "source": [
    "\n",
    "From the looks of it, we should be able to use the backstop file to do this check. All the points we are looking for are located in the file, so it would be a good idea to move this check to this file."
   ]
  },
  {
   "cell_type": "code",
   "execution_count": 35,
   "metadata": {
    "collapsed": false,
    "scrolled": true
   },
   "outputs": [],
   "source": [
    "from re import search\n",
    "from glob import glob\n",
    "from datetime import datetime"
   ]
  },
  {
   "cell_type": "code",
   "execution_count": 40,
   "metadata": {
    "collapsed": true
   },
   "outputs": [],
   "source": [
    "def time2seconds(timestring):\n",
    "    parsedtime = datetime.strptime(timestring,\"%Y:%j:%H:%M:%S.%f\") - datetime(1998,1,1)\n",
    "    return parsedtime.total_seconds()"
   ]
  },
  {
   "cell_type": "code",
   "execution_count": 41,
   "metadata": {
    "collapsed": false,
    "scrolled": true
   },
   "outputs": [
    {
     "data": {
      "text/plain": [
       "['/home/mission/Backstop/MAR1218B/CR071_0604.backstop']"
      ]
     },
     "execution_count": 41,
     "metadata": {},
     "output_type": "execute_result"
    }
   ],
   "source": [
    "backstop_file_array = glob('/home/mission/Backstop/MAR1218B/CR*backstop')\n",
    "backstop_file_array"
   ]
  },
  {
   "cell_type": "markdown",
   "metadata": {},
   "source": [
    "Let's do a little error checking to make sure there is only one file and check to see if there is a backstop file to use."
   ]
  },
  {
   "cell_type": "code",
   "execution_count": 42,
   "metadata": {
    "collapsed": false,
    "scrolled": true
   },
   "outputs": [],
   "source": [
    "if len(backstop_file_array) > 1:\n",
    "    print(\"There are too many backstop files\")\n",
    "    \n",
    "    for backstop_file in backstop_file_array:\n",
    "        bstop_array = backstop_file.split('/')\n",
    "        print(bstop_array[-1])\n",
    "    \n",
    "if len(backstop_file_array) == 0:\n",
    "    print(\"There is no backstop file\")"
   ]
  },
  {
   "cell_type": "markdown",
   "metadata": {},
   "source": [
    "In a perfect, we would never need this check, but it is good to think about these type of situations as we move forward. Now let's open the file to get it ready to read."
   ]
  },
  {
   "cell_type": "code",
   "execution_count": 67,
   "metadata": {
    "collapsed": false,
    "scrolled": true
   },
   "outputs": [
    {
     "name": "stdout",
     "output_type": "stream",
     "text": [
      "TIME: 2018:071:17:07:55.192 TLMSID: XTZ0000005\n",
      "TIME: 2018:071:18:31:12.192 TLMSID: XTZ0000005\n",
      "TIME: 2018:071:22:56:24.192 TLMSID: XTZ0000005\n",
      "TIME: 2018:072:06:17:32.293 TLMSID: XTZ0000005\n",
      "TIME: 2018:072:23:53:06.293 TLMSID: CSELFMT4\n",
      "TIME: 2018:072:23:57:24.093 TLMSID: CSELFMT2\n",
      "TIME: 2018:073:00:03:01.914 TLMSID: XTZ0000005\n",
      "TIME: 2018:073:05:06:43.914 TLMSID: CSELFMT4\n",
      "TIME: 2018:073:05:11:01.714 TLMSID: CSELFMT2\n",
      "TIME: 2018:073:05:14:47.535 TLMSID: XTZ0000005\n",
      "TIME: 2018:073:14:18:19.267 TLMSID: XTZ0000005\n",
      "TIME: 2018:073:16:23:36.267 TLMSID: XTZ0000005\n",
      "TIME: 2018:073:19:42:18.432 TLMSID: XTZ0000005\n",
      "TIME: 2018:074:02:46:51.293 TLMSID: CSELFMT4\n",
      "TIME: 2018:074:02:51:09.093 TLMSID: CSELFMT2\n",
      "TIME: 2018:074:03:53:26.000 TLMSID: CSELFMT6\n",
      "TIME: 2018:074:03:57:53.000 TLMSID: CSELFMT2\n",
      "TIME: 2018:074:08:40:58.432 TLMSID: XTZ0000005\n",
      "TIME: 2018:074:10:04:15.432 TLMSID: XTZ0000005\n",
      "TIME: 2018:074:18:45:59.432 TLMSID: CSELFMT4\n",
      "TIME: 2018:074:18:50:17.232 TLMSID: CSELFMT2\n",
      "TIME: 2018:074:18:52:29.032 TLMSID: XTZ0000005\n",
      "TIME: 2018:075:04:06:40.012 TLMSID: XTZ0000005\n",
      "TIME: 2018:075:12:33:46.908 TLMSID: XTZ0000005\n",
      "TIME: 2018:075:14:24:34.556 TLMSID: XTZ0000005\n",
      "TIME: 2018:075:23:18:16.279 TLMSID: XTZ0000005\n",
      "TIME: 2018:076:10:23:07.749 TLMSID: XTZ0000005\n",
      "TIME: 2018:077:00:07:47.749 TLMSID: XTZ0000005\n",
      "TIME: 2018:077:01:44:47.749 TLMSID: XTZ0000005\n",
      "TIME: 2018:077:10:45:13.598 TLMSID: XTZ0000005\n",
      "TIME: 2018:077:23:37:27.598 TLMSID: CSELFMT4\n",
      "TIME: 2018:077:23:41:45.398 TLMSID: CSELFMT2\n",
      "TIME: 2018:077:23:46:28.427 TLMSID: XTZ0000005\n"
     ]
    }
   ],
   "source": [
    "file_in = open(backstop_file_array[0])\n",
    "# \"(\\d+:\\d+:\\d+:\\d+:\\d+.\\d+).*TLMSID= (XCZ[0-9,A-Z]+)\",\n",
    "regex_to_match = [\"(\\d+:\\d+:\\d+:\\d+:\\d+.\\d+).*TLMSID= (X[T C]Z[0-9 A-F]+)\",\n",
    "                  \"(\\d+:\\d+:\\d+:\\d+:\\d+.\\d+).*TLMSID= (CSELFMT\\d)\"]\n",
    "\n",
    "results_array = []\n",
    "\n",
    "\n",
    "\n",
    "for line in file_in:\n",
    "    match = search(regex_to_match[0],line)\n",
    "    if not match:\n",
    "        match = search(regex_to_match[1],line)\n",
    "    if match:\n",
    "        temp_object = {\n",
    "            \"timestring\": match.group(1),\n",
    "            \"tlmsid\":match.group(2),\n",
    "            \"time_seconds\":time2seconds(match.group(1))\n",
    "        }\n",
    "        \n",
    "        results_array.append(temp_object)\n",
    "        \n",
    "        \n",
    "        print(\"TIME: \"+ match.group(1) + \" TLMSID: \" + match.group(2))\n",
    "\n",
    "#for result_instance in results_array:\n",
    "#    print(\"TIME: \"+ result_instance['time'] + \" TLMSID: \" + result_instance['tlmsid'])\n",
    "\n",
    "file_in.close()"
   ]
  },
  {
   "cell_type": "raw",
   "metadata": {
    "collapsed": true
   },
   "source": [
    "for <element> in <array>"
   ]
  },
  {
   "cell_type": "code",
   "execution_count": 68,
   "metadata": {
    "collapsed": false
   },
   "outputs": [],
   "source": [
    "previous_object = {}\n",
    "\n",
    "index=0\n",
    "for result_instance in results_array:\n",
    "    if not index == 0:\n",
    "        time = result_instance['time_seconds']\n",
    "        previous_time = previous_object['time_seconds']\n",
    "        \n",
    "        match=search(\"SELFMT\\d\",result_instance['tlmsid'])\n",
    "        if match:\n",
    "            match2=search(\"SELFMT\\d\",previous_object['tlmsid'])\n",
    "            \n",
    "            if not match2:\n",
    "                if  previous_time+(26*60) > time:\n",
    "                    output = \"TLMSID: \"+ result_instance['tlmsid']+\" \"+result_instance['timestring'] +\\\n",
    "                    \" | PREVIOUS TLMSID: \"+ previous_object['tlmsid'] +\" \" +\\\n",
    "                    previous_object['timestring'] + \"|<------THIS NEED CHECKED | AMOUNT of TIME BETWEEN: \"+\\\n",
    "                    str((result_instance['time_seconds']-previous_object['time_seconds'])/60)\n",
    "                    \n",
    "                    print(output)\n",
    "                \n",
    "    \n",
    "    index+=1\n",
    "    previous_object = result_instance\n",
    "    \n",
    "    \n",
    "    "
   ]
  },
  {
   "cell_type": "code",
   "execution_count": null,
   "metadata": {
    "collapsed": true
   },
   "outputs": [],
   "source": []
  }
 ],
 "metadata": {
  "celltoolbar": "Raw Cell Format",
  "kernelspec": {
   "display_name": "Python 3",
   "language": "python",
   "name": "python3"
  },
  "language_info": {
   "codemirror_mode": {
    "name": "ipython",
    "version": 3
   },
   "file_extension": ".py",
   "mimetype": "text/x-python",
   "name": "python",
   "nbconvert_exporter": "python",
   "pygments_lexer": "ipython3",
   "version": "3.5.2"
  }
 },
 "nbformat": 4,
 "nbformat_minor": 2
}
