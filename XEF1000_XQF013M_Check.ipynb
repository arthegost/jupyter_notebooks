{
 "cells": [
  {
   "cell_type": "markdown",
   "metadata": {},
   "source": [
    "# Using The Kadi Archive"
   ]
  },
  {
   "cell_type": "code",
   "execution_count": 1,
   "metadata": {
    "collapsed": true
   },
   "outputs": [],
   "source": [
    "import kadi\n",
    "from kadi import commands"
   ]
  },
  {
   "cell_type": "code",
   "execution_count": 3,
   "metadata": {},
   "outputs": [
    {
     "data": {
      "text/html": [
       "&lt;CommandTable length=8&gt;\n",
       "<table id=\"table46912699915064\" class=\"table-striped table-bordered table-condensed\">\n",
       "<thead><tr><th>idx</th><th>date</th><th>type</th><th>tlmsid</th><th>scs</th><th>step</th><th>timeline_id</th><th>params</th></tr></thead>\n",
       "<thead><tr><th>uint16</th><th>bytes21</th><th>bytes12</th><th>bytes10</th><th>uint8</th><th>uint16</th><th>uint32</th><th>object</th></tr></thead>\n",
       "<tr><td>25479</td><td>2013:001:00:37:37.653</td><td>ORBPOINT</td><td>None</td><td>0</td><td>0</td><td>426098988</td><td>None</td></tr>\n",
       "<tr><td>0</td><td>2013:001:00:53:07.181</td><td>COMMAND_SW</td><td>AOACRSTD</td><td>129</td><td>1524</td><td>426098990</td><td>None</td></tr>\n",
       "<tr><td>493</td><td>2013:001:00:54:07.181</td><td>COMMAND_SW</td><td>AOFUNCDS</td><td>129</td><td>1526</td><td>426098990</td><td>None</td></tr>\n",
       "<tr><td>47</td><td>2013:001:00:55:07.181</td><td>COMMAND_SW</td><td>AOFUNCDS</td><td>129</td><td>1528</td><td>426098990</td><td>None</td></tr>\n",
       "<tr><td>1</td><td>2013:001:00:56:07.181</td><td>COMMAND_SW</td><td>AONMMODE</td><td>129</td><td>1530</td><td>426098990</td><td>None</td></tr>\n",
       "<tr><td>49</td><td>2013:001:00:56:07.181</td><td>ACISPKT</td><td>AA00000000</td><td>132</td><td>1620</td><td>426098991</td><td>None</td></tr>\n",
       "<tr><td>107</td><td>2013:001:00:56:07.181</td><td>SIMTRANS</td><td>None</td><td>132</td><td>1623</td><td>426098991</td><td>None</td></tr>\n",
       "<tr><td>2</td><td>2013:001:00:56:07.438</td><td>COMMAND_SW</td><td>AONM2NPE</td><td>129</td><td>1532</td><td>426098990</td><td>None</td></tr>\n",
       "</table>"
      ],
      "text/plain": [
       "<CommandTable length=8>\n",
       " idx            date            type      tlmsid   ...  step  timeline_id params\n",
       "uint16        bytes21         bytes12    bytes10   ... uint16    uint32   object\n",
       "------ --------------------- ---------- ---------- ... ------ ----------- ------\n",
       " 25479 2013:001:00:37:37.653   ORBPOINT       None ...      0   426098988   None\n",
       "     0 2013:001:00:53:07.181 COMMAND_SW   AOACRSTD ...   1524   426098990   None\n",
       "   493 2013:001:00:54:07.181 COMMAND_SW   AOFUNCDS ...   1526   426098990   None\n",
       "    47 2013:001:00:55:07.181 COMMAND_SW   AOFUNCDS ...   1528   426098990   None\n",
       "     1 2013:001:00:56:07.181 COMMAND_SW   AONMMODE ...   1530   426098990   None\n",
       "    49 2013:001:00:56:07.181    ACISPKT AA00000000 ...   1620   426098991   None\n",
       "   107 2013:001:00:56:07.181   SIMTRANS       None ...   1623   426098991   None\n",
       "     2 2013:001:00:56:07.438 COMMAND_SW   AONM2NPE ...   1532   426098990   None"
      ]
     },
     "execution_count": 3,
     "metadata": {},
     "output_type": "execute_result"
    }
   ],
   "source": [
    "cmds = commands.get_cmds('2013:001:00:00:00', '2013:001:00:56:10')\n",
    "cmds"
   ]
  },
  {
   "cell_type": "code",
   "execution_count": 12,
   "metadata": {},
   "outputs": [],
   "source": [
    "cmds_w_params = cmds.fetch_params()\n"
   ]
  },
  {
   "cell_type": "code",
   "execution_count": 70,
   "metadata": {},
   "outputs": [],
   "source": [
    "cmds = commands.get_cmds('2018:001','2018:200',type='ORBPOINT')"
   ]
  },
  {
   "cell_type": "code",
   "execution_count": 71,
   "metadata": {},
   "outputs": [],
   "source": [
    "cmds.fetch_params()"
   ]
  },
  {
   "cell_type": "code",
   "execution_count": 72,
   "metadata": {},
   "outputs": [
    {
     "data": {
      "text/html": [
       "&lt;CommandTable length=857&gt;\n",
       "<table id=\"table46912860938536\" class=\"table-striped table-bordered table-condensed\">\n",
       "<thead><tr><th>idx</th><th>date</th><th>type</th><th>tlmsid</th><th>scs</th><th>step</th><th>timeline_id</th><th>params</th></tr></thead>\n",
       "<thead><tr><th>uint16</th><th>bytes21</th><th>bytes12</th><th>bytes10</th><th>uint8</th><th>uint16</th><th>uint32</th><th>object</th></tr></thead>\n",
       "<tr><td>70</td><td>2018:002:01:45:15.466</td><td>ORBPOINT</td><td>None</td><td>0</td><td>0</td><td>426102969</td><td>{&apos;event_type&apos;: &apos;EALT1&apos;}</td></tr>\n",
       "<tr><td>71</td><td>2018:002:01:45:16.668</td><td>ORBPOINT</td><td>None</td><td>0</td><td>0</td><td>426102969</td><td>{&apos;event_type&apos;: &apos;XALT1&apos;}</td></tr>\n",
       "<tr><td>38360</td><td>2018:002:07:13:35.457</td><td>ORBPOINT</td><td>None</td><td>0</td><td>0</td><td>426102969</td><td>{&apos;event_type&apos;: &apos;EQF005M&apos;}</td></tr>\n",
       "<tr><td>25475</td><td>2018:002:08:45:35.457</td><td>ORBPOINT</td><td>None</td><td>0</td><td>0</td><td>426102969</td><td>{&apos;event_type&apos;: &apos;EQF003M&apos;}</td></tr>\n",
       "<tr><td>38364</td><td>2018:002:08:45:35.457</td><td>ORBPOINT</td><td>None</td><td>0</td><td>0</td><td>426102969</td><td>{&apos;event_type&apos;: &apos;EQF015M&apos;}</td></tr>\n",
       "<tr><td>25479</td><td>2018:002:10:11:35.457</td><td>ORBPOINT</td><td>None</td><td>0</td><td>0</td><td>426102969</td><td>{&apos;event_type&apos;: &apos;EQF013M&apos;}</td></tr>\n",
       "<tr><td>7375</td><td>2018:002:12:06:22.551</td><td>ORBPOINT</td><td>None</td><td>0</td><td>0</td><td>426102969</td><td>{&apos;event_type&apos;: &apos;EEF1000&apos;}</td></tr>\n",
       "<tr><td>500</td><td>2018:002:12:41:11.436</td><td>ORBPOINT</td><td>None</td><td>0</td><td>0</td><td>426102969</td><td>{&apos;event_type&apos;: &apos;PENTRY&apos;}</td></tr>\n",
       "<tr><td>501</td><td>2018:002:12:43:51.436</td><td>ORBPOINT</td><td>None</td><td>0</td><td>0</td><td>426102969</td><td>{&apos;event_type&apos;: &apos;EONIGHT&apos;}</td></tr>\n",
       "<tr><td>24953</td><td>2018:002:12:58:22.551</td><td>ORBPOINT</td><td>None</td><td>0</td><td>0</td><td>426102969</td><td>{&apos;event_type&apos;: &apos;EPF1000&apos;}</td></tr>\n",
       "<tr><td>...</td><td>...</td><td>...</td><td>...</td><td>...</td><td>...</td><td>...</td><td>...</td></tr>\n",
       "<tr><td>21</td><td>2018:097:22:10:55.750</td><td>ORBPOINT</td><td>None</td><td>0</td><td>0</td><td>426103111</td><td>{&apos;event_type&apos;: &apos;XALT0&apos;}</td></tr>\n",
       "<tr><td>23</td><td>2018:098:03:00:37.017</td><td>ORBPOINT</td><td>None</td><td>0</td><td>0</td><td>426103111</td><td>{&apos;event_type&apos;: &apos;EASCNCR&apos;}</td></tr>\n",
       "<tr><td>7378</td><td>2018:098:04:03:46.757</td><td>ORBPOINT</td><td>None</td><td>0</td><td>0</td><td>426103111</td><td>{&apos;event_type&apos;: &apos;XEF1000&apos;}</td></tr>\n",
       "<tr><td>25455</td><td>2018:098:04:49:26.816</td><td>ORBPOINT</td><td>None</td><td>0</td><td>0</td><td>426103111</td><td>{&apos;event_type&apos;: &apos;XQF013M&apos;}</td></tr>\n",
       "<tr><td>38349</td><td>2018:098:06:49:26.816</td><td>ORBPOINT</td><td>None</td><td>0</td><td>0</td><td>426103111</td><td>{&apos;event_type&apos;: &apos;XQF015M&apos;}</td></tr>\n",
       "<tr><td>38350</td><td>2018:098:07:03:26.816</td><td>ORBPOINT</td><td>None</td><td>0</td><td>0</td><td>426103111</td><td>{&apos;event_type&apos;: &apos;XQF005M&apos;}</td></tr>\n",
       "<tr><td>25456</td><td>2018:098:07:25:26.816</td><td>ORBPOINT</td><td>None</td><td>0</td><td>0</td><td>426103111</td><td>{&apos;event_type&apos;: &apos;XQF003M&apos;}</td></tr>\n",
       "<tr><td>70</td><td>2018:098:11:52:17.382</td><td>ORBPOINT</td><td>None</td><td>0</td><td>0</td><td>426103111</td><td>{&apos;event_type&apos;: &apos;EALT1&apos;}</td></tr>\n",
       "<tr><td>71</td><td>2018:098:11:52:19.268</td><td>ORBPOINT</td><td>None</td><td>0</td><td>0</td><td>426103111</td><td>{&apos;event_type&apos;: &apos;XALT1&apos;}</td></tr>\n",
       "<tr><td>103</td><td>2018:099:05:01:52.104</td><td>ORBPOINT</td><td>None</td><td>0</td><td>0</td><td>426103111</td><td>{&apos;event_type&apos;: &apos;EAPOGEE&apos;}</td></tr>\n",
       "</table>"
      ],
      "text/plain": [
       "<CommandTable length=857>\n",
       " idx            date           type   ... timeline_id           params         \n",
       "uint16        bytes21        bytes12  ...    uint32             object         \n",
       "------ --------------------- -------- ... ----------- -------------------------\n",
       "    70 2018:002:01:45:15.466 ORBPOINT ...   426102969   {'event_type': 'EALT1'}\n",
       "    71 2018:002:01:45:16.668 ORBPOINT ...   426102969   {'event_type': 'XALT1'}\n",
       " 38360 2018:002:07:13:35.457 ORBPOINT ...   426102969 {'event_type': 'EQF005M'}\n",
       " 25475 2018:002:08:45:35.457 ORBPOINT ...   426102969 {'event_type': 'EQF003M'}\n",
       " 38364 2018:002:08:45:35.457 ORBPOINT ...   426102969 {'event_type': 'EQF015M'}\n",
       " 25479 2018:002:10:11:35.457 ORBPOINT ...   426102969 {'event_type': 'EQF013M'}\n",
       "  7375 2018:002:12:06:22.551 ORBPOINT ...   426102969 {'event_type': 'EEF1000'}\n",
       "   500 2018:002:12:41:11.436 ORBPOINT ...   426102969  {'event_type': 'PENTRY'}\n",
       "   501 2018:002:12:43:51.436 ORBPOINT ...   426102969 {'event_type': 'EONIGHT'}\n",
       " 24953 2018:002:12:58:22.551 ORBPOINT ...   426102969 {'event_type': 'EPF1000'}\n",
       "   ...                   ...      ... ...         ...                       ...\n",
       "    21 2018:097:22:10:55.750 ORBPOINT ...   426103111   {'event_type': 'XALT0'}\n",
       "    23 2018:098:03:00:37.017 ORBPOINT ...   426103111 {'event_type': 'EASCNCR'}\n",
       "  7378 2018:098:04:03:46.757 ORBPOINT ...   426103111 {'event_type': 'XEF1000'}\n",
       " 25455 2018:098:04:49:26.816 ORBPOINT ...   426103111 {'event_type': 'XQF013M'}\n",
       " 38349 2018:098:06:49:26.816 ORBPOINT ...   426103111 {'event_type': 'XQF015M'}\n",
       " 38350 2018:098:07:03:26.816 ORBPOINT ...   426103111 {'event_type': 'XQF005M'}\n",
       " 25456 2018:098:07:25:26.816 ORBPOINT ...   426103111 {'event_type': 'XQF003M'}\n",
       "    70 2018:098:11:52:17.382 ORBPOINT ...   426103111   {'event_type': 'EALT1'}\n",
       "    71 2018:098:11:52:19.268 ORBPOINT ...   426103111   {'event_type': 'XALT1'}\n",
       "   103 2018:099:05:01:52.104 ORBPOINT ...   426103111 {'event_type': 'EAPOGEE'}"
      ]
     },
     "execution_count": 72,
     "metadata": {},
     "output_type": "execute_result"
    }
   ],
   "source": [
    "cmds\n"
   ]
  },
  {
   "cell_type": "code",
   "execution_count": 73,
   "metadata": {},
   "outputs": [
    {
     "name": "stdout",
     "output_type": "stream",
     "text": [
      "Time Between XQF013M and 5k pad: 513.1489999294281\n",
      "Time Between XQF013M and 5k pad: 497.52300000190735\n",
      "Time Between XQF013M and 5k pad: 1457.5219999551773\n",
      "Time Between XQF013M and 5k pad: 2208.753000020981\n",
      "Time Between XQF013M and 5k pad: 2808.754000067711\n",
      "Time Between XQF013M and 5k pad: 888.7540000677109\n",
      "Time Between XQF013M and 5k pad: 459.93999993801117\n",
      "Time Between XQF013M and 5k pad: 1539.9409999847412\n",
      "Time Between XQF013M and 5k pad: 699.9399999380112\n",
      "Time Between XQF013M and 5k pad: 2859.940999984741\n",
      "Time Between XQF013M and 5k pad: 2259.940999984741\n",
      "Total Times event occured: 11\n",
      "Total Seconds Wasted: 16194.157999873161\n"
     ]
    }
   ],
   "source": [
    "from Chandra.Time import DateTime\n",
    "\n",
    "flag = 0\n",
    "count = 0\n",
    "total_seconds = 0\n",
    "for cmd in cmds:\n",
    "    cmd_start_seconds = DateTime(cmd['date']).secs\n",
    "    if cmd['event_type'] == 'XEF1000':\n",
    "        flag = 1\n",
    "        XEF_start_seconds = cmd_start_seconds\n",
    "    if flag:\n",
    "        \n",
    "        if cmd['event_type'] == 'XQF013M':\n",
    "                XQF_start_seconds = cmd_start_seconds\n",
    "                if (XEF_start_seconds+5000) > XQF_start_seconds:\n",
    "                    diff = (XEF_start_seconds+5000) - XQF_start_seconds\n",
    "                    print('Time Between XQF013M and 5k pad: ' + str(diff))\n",
    "                    flag=0\n",
    "                    count += 1\n",
    "                    total_seconds += diff\n",
    "\n",
    "print('Total Times event occured: ' + str(count))\n",
    "print('Total Seconds Wasted: ' + str(total_seconds))\n",
    "        \n",
    "    \n",
    "        \n",
    "        \n"
   ]
  },
  {
   "cell_type": "code",
   "execution_count": null,
   "metadata": {
    "collapsed": true
   },
   "outputs": [],
   "source": []
  }
 ],
 "metadata": {
  "kernelspec": {
   "display_name": "Python 3",
   "language": "python",
   "name": "python3"
  },
  "language_info": {
   "codemirror_mode": {
    "name": "ipython",
    "version": 3
   },
   "file_extension": ".py",
   "mimetype": "text/x-python",
   "name": "python",
   "nbconvert_exporter": "python",
   "pygments_lexer": "ipython3",
   "version": "3.6.2"
  }
 },
 "nbformat": 4,
 "nbformat_minor": 2
}
